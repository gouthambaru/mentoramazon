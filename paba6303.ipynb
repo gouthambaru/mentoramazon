{
 "cells": [
  {
   "cell_type": "markdown",
   "metadata": {},
   "source": [
    "## RSA - The Project"
   ]
  },
  {
   "cell_type": "code",
   "execution_count": null,
   "metadata": {},
   "outputs": [],
   "source": [
    "Name: Pavani Krishna Goutham Baru \n",
    "\n",
    "Moodle Email:paba6303@colorado.edu\n",
    "\n",
    "Did you name your file \"cuidentikey\".ipynb ? Answer yes or no ?  yes"
   ]
  },
  {
   "cell_type": "markdown",
   "metadata": {},
   "source": [
    "<hr />\n",
    "\n",
    "# Table of Contents\n",
    "\n",
    "### 1. Introduction\n",
    "\n",
    "### 2. RSA Code Package\n",
    "###### &nbsp;&nbsp;&nbsp;&nbsp;&nbsp;&nbsp; 2.1 Basic tool set\n",
    "###### &nbsp;&nbsp;&nbsp;&nbsp;&nbsp;&nbsp; 2.2 First tool set\n",
    "###### &nbsp;&nbsp;&nbsp;&nbsp;&nbsp;&nbsp; 2.3 2nd tool set\n",
    "\n",
    "### 3. RSA More Code\n",
    "###### &nbsp;&nbsp;&nbsp;&nbsp;&nbsp;&nbsp; 3.1 Step 1: Get Keys\n",
    "###### &nbsp;&nbsp;&nbsp;&nbsp;&nbsp;&nbsp; 3.2 Step 2: Encode\n",
    "###### &nbsp;&nbsp;&nbsp;&nbsp;&nbsp;&nbsp; 3.3 Step 3: Decode\n",
    "\n",
    "### 4. How the RSA demo works - This will be a mix of code and text blocks \n",
    "###### &nbsp;&nbsp;&nbsp;&nbsp;&nbsp;&nbsp; 4.1 Get Keys\n",
    "###### &nbsp;&nbsp;&nbsp;&nbsp;&nbsp;&nbsp; 4.2 Encode\n",
    "###### &nbsp;&nbsp;&nbsp;&nbsp;&nbsp;&nbsp; 4.3 Decode\n",
    "\n",
    "### 5. Exchanging keys and codes\n",
    "\n",
    "### 6. Brute force method of finding factors of n\n",
    "\n",
    "### 7. Breaking codes without a private key\n",
    "\n",
    "### 8. How many codes did I break?\n",
    "\n",
    "### 9. Improving the brute force method of factoring\n",
    "\n",
    "### 10. Conclusion"
   ]
  },
  {
   "cell_type": "markdown",
   "metadata": {},
   "source": [
    "### 1. Introduction to your RSA Package and Project.  Give an overview of your project and what you have learned."
   ]
  },
  {
   "cell_type": "markdown",
   "metadata": {},
   "source": [
    "Put introduction/overview here. This should be something someone could read who has never seen your project to understanding what is coming. \n"
   ]
  },
  {
   "cell_type": "markdown",
   "metadata": {},
   "source": [
    "RSA cryptography is useful for secure communication between two systems. We encode the message and send it. The receiver will decode the message to read it.\n",
    "We use the asymmetric key cryptography concept. The sender encrypts the message with the receiver's public key and the receiver will decode the message with its own private key.\n",
    "In this project we implemented all the processes using functions. The following are the function names and their brief description\n",
    "\n",
    "Convert_Text ---  Convert String to numericals.\n",
    "Convert_Num  ---  Convert Numericals back to string\n",
    "Convert_Binary_String --- Convert number into binary\n",
    "ExtAlg       ---  Implement Euclid Extended Algorithm and find out the modular inverse by calculating Bezout coefficients.\n",
    "FME          ---  Fast Modular Exponentiation calculation. This plays a major role in caclculating (message ** b) mod m.\n",
    "Euclidean_Alg --- Calculate GCD using Euclidean_Alg.\n",
    "Find_Public_Key --- This function calculates the list of feasible public keys from the given two prime numbers p & q.\n",
    "FInd_Private_Key --- This function calculates the unique private key for the given prime numbers p & q & n.\n",
    "Encode --- This function encodes the message(typed in string) using the public key provided\n",
    "Decode --- This function decodes the message\n",
    "Main function in section 5 -- This function asks the user for inputs \"E\" or \"D\" or \"G\".  the user needs to enter \n",
    "                                \"E\" -- \"Encode\" (you need product of two prime numbers (n) and public key)\n",
    "                                \"D\" -- \"Decode\" (you need product of two prime numbers (n) and private key and encoded message)\n",
    "                                \"G\" -- \"Generate Keys\"\n",
    "            \n",
    "            Note: For decoding the message, the message should be entered as follows:\n",
    "                    (typed in by removing \"[\" at the beginning and at the end\"]\"). For instance if the message is\n",
    "            [897, 58, 3283, 2911, 4431, 1262, 1263, 1974, 1262, 685, 4250, 2497, 1262, 427, 4250, 4723, 1105, 2497]. We need to enter it as \n",
    "            897, 58, 3283, 2911, 4431, 1262, 1263, 1974, 1262, 685, 4250, 2497, 1262, 427, 4250, 4723, 1105, 2497\n",
    "Main function in section 6 -- This function calculate the p and q if you input the public key and n. I have used some of the suggestion to reduce the compute time\n",
    "                                \n",
    "For the code improvement part, I have already added those in section 5 and above(i.e merged into mainline)\n",
    "\n"
   ]
  },
  {
   "cell_type": "markdown",
   "metadata": {},
   "source": [
    "### 2.1\n",
    "#### Basic tool set\n",
    "\n",
    "These are functions that you'll need to pre-process the messages before the messages are encoded and decoded by the RSA algorithm. That is the reason we will be defining them first.\n",
    "\n"
   ]
  },
  {
   "cell_type": "code",
   "execution_count": 7,
   "metadata": {},
   "outputs": [
    {
     "data": {
      "text/plain": [
       "[104, 101, 108, 108, 111]"
      ]
     },
     "execution_count": 7,
     "metadata": {},
     "output_type": "execute_result"
    }
   ],
   "source": [
    "def Convert_Text(_string):\n",
    "    \"\"\"\n",
    "    Define this function such that it takes in a simple \n",
    "    string such as \"hello\" and outputs the corresponding\n",
    "    standard list of integers (ascii) for each letter in the word hello.\n",
    "    For example:\n",
    "    _string = hello\n",
    "    integer_list = [104, 101, 108, 108, 111]\n",
    "    \"\"\"\n",
    "    integer_list = []\n",
    "    \n",
    "    for letter in _string:#iterating through each letter in the string\n",
    "        integer = ord(letter)#Finding the ascii value\n",
    "        integer_list.append(integer)\n",
    "    return integer_list\n",
    "\n",
    "Convert_Text(\"hello\")\n"
   ]
  },
  {
   "cell_type": "code",
   "execution_count": 8,
   "metadata": {},
   "outputs": [
    {
     "data": {
      "text/plain": [
       "'hello'"
      ]
     },
     "execution_count": 8,
     "metadata": {},
     "output_type": "execute_result"
    }
   ],
   "source": [
    "def Convert_Num(_list):\n",
    "    \"\"\"\n",
    "    Do the opposite of what you did in the Convert_Text\n",
    "    function defined above.\n",
    "    \n",
    "    Define this function such that it takes in a simple \n",
    "    string such as \"hello\" and outputs the corresponding\n",
    "    list of integers for each letter in the word hello.\n",
    "    For example:\n",
    "    _list = [104, 101, 108, 108, 111]\n",
    "    _string = hello\n",
    "    \"\"\"\n",
    "    _string = ''\n",
    "    for i in _list:#iterating through each number in the list\n",
    "        _string += chr(i)#converting the number to its string value\n",
    "    return _string\n",
    "\n",
    "Convert_Num([104, 101, 108, 108, 111])"
   ]
  },
  {
   "cell_type": "code",
   "execution_count": 9,
   "metadata": {},
   "outputs": [
    {
     "data": {
      "text/plain": [
       "'111110001'"
      ]
     },
     "execution_count": 9,
     "metadata": {},
     "output_type": "execute_result"
    }
   ],
   "source": [
    "def Convert_Binary_String(_int):\n",
    "    \"\"\"\n",
    "    Here, you need to define a function that converts an integer to\n",
    "    a string of it's binary expansion.\n",
    "    \n",
    "    For example:\n",
    "    _int = 345\n",
    "    bits = 101011001\n",
    "    \"\"\"\n",
    "    bits = 0\n",
    "    if(_int < 0):#checking if the value is less than zero\n",
    "        bits = bin(_int)[3:]#we will consider the values from 3rd position because -0b will be the first three characters\n",
    "    else:\n",
    "        bits = bin(_int)[2:]#we will consider the values from 2nd position because 0b will be the first two characters\n",
    "\n",
    "    return bits\n",
    "Convert_Binary_String(497)"
   ]
  },
  {
   "cell_type": "markdown",
   "metadata": {},
   "source": [
    "Now that you're done with the basic toolset we'll move on to the first tool set which are actually involved in the RSA system."
   ]
  },
  {
   "cell_type": "markdown",
   "metadata": {},
   "source": [
    "### 2.2 \n",
    "#### First tool set.\n",
    "\n"
   ]
  },
  {
   "cell_type": "code",
   "execution_count": 163,
   "metadata": {},
   "outputs": [
    {
     "data": {
      "text/plain": [
       "18"
      ]
     },
     "execution_count": 163,
     "metadata": {},
     "output_type": "execute_result"
    }
   ],
   "source": [
    "def ExtAlg(num1, num2):   \n",
    "    \"\"\" Function that takes two numbers as input and calculate the gcd\n",
    "        After calculating the gcd, we find out the Bezout coefficients.\"\"\"\n",
    "    num1 = int((num1))#taking input 1\n",
    "    num2 = int((num2))#taking input 2\n",
    "    temp1 = []\n",
    "    if(num2 != 0 & num1 != 0):\n",
    "        partial_num = max(num1, num2)#finding the maximum of both the numbers\n",
    "        partial_num_two = min(num1, num2)#finding the minimum value of both the numbers\n",
    "    else:\n",
    "        partial_num = min(num1, num2)\n",
    "        partial_num_two = max(num1, num2)\n",
    "    temp = 0\n",
    "    remain = 1\n",
    "    while remain != 0:#iterating the loop till the value of reaminder is zero.\n",
    "        temp = partial_num // partial_num_two # find the value of quotient\n",
    "        temp1.append(temp)\n",
    "        remain = partial_num % partial_num_two#finding the value of remainder\n",
    "        partial_num = partial_num_two\n",
    "        partial_num_two= remain\n",
    "    s = [1, 0]\n",
    "    t = [0, 1]\n",
    "    for quo in range(len(temp1) - 1):#calculating the coefficeints\n",
    "        s.append(s[quo] - temp1[quo]*s[quo+1])\n",
    "        t.append(t[quo] - temp1[quo]*t[quo+1])\n",
    "    if ((s[-1] * num1 ) + (t[-1] * num2)) == partial_num:\n",
    "        return s[-1]\n",
    "    elif((s[-1] * num2) + (t[-1] * num1)) == partial_num: \n",
    "        return t[-1]#returning the inverse value\n",
    "\n",
    "ExtAlg(595, 629)"
   ]
  },
  {
   "cell_type": "code",
   "execution_count": 164,
   "metadata": {},
   "outputs": [
    {
     "data": {
      "text/plain": [
       "494"
      ]
     },
     "execution_count": 164,
     "metadata": {},
     "output_type": "execute_result"
    }
   ],
   "source": [
    "def FME( b, n, m):\n",
    "    \"\"\"\n",
    "    1. Using the fast modular exponentiation algorithm.\n",
    "    the below function should return b**n mod m.\n",
    "    As described on page 254. (however, you may input the exponent and \n",
    "    then convert it to a string - the book verison imports the binary expansion)  \n",
    "    2. You should use the function defined above\n",
    "    Convert_Binary_String()\n",
    "    3. Use this string to test which components are used in the calculation.\n",
    "    4. Yes, there are many other ways to do this. \n",
    "***UPDATE*** You may use the function you developed in Week 6 - but be sure it is your own work commented etc.. and change inputs as needed.\n",
    "    \"\"\"  \n",
    "    num1 = int(b)#message\n",
    "    num2 = int(n)#exponent\n",
    "    num3 = int(m)#divisor\n",
    "    if(num2 < 0):\n",
    "        #power = ExtAlg(num1, num3)\n",
    "        power = ExtAlg(num1, num3)\n",
    "    else:\n",
    "        power = num1 % num3\n",
    "    binary_value = Convert_Binary_String(num2)#converting the exponent into binary considering only digits from 2nd place\n",
    "    binary_value = binary_value[::-1]#reversing the position of the digits\n",
    "    #power = num1 % num3 #calculating the value of power using algorithm5\n",
    "    #print(power)\n",
    "    digit = 0\n",
    "    x = 1\n",
    "    #print(binary_value)\n",
    "    #print(power)\n",
    "    while digit < len(binary_value):#checking the value is less than the total length\n",
    "        if (int(binary_value[digit]) == 1):#checking the value of the binary digits\n",
    "            x = (power * x) % num3\n",
    "        power = (power * power) % num3\n",
    "        digit = digit + 1\n",
    "    return(x)\n",
    "    \n",
    "FME(595, -115, 629)\n"
   ]
  },
  {
   "cell_type": "code",
   "execution_count": 165,
   "metadata": {},
   "outputs": [
    {
     "data": {
      "text/plain": [
       "1"
      ]
     },
     "execution_count": 165,
     "metadata": {},
     "output_type": "execute_result"
    }
   ],
   "source": [
    "def Euclidean_Alg(a, b):\n",
    "    \"\"\"\n",
    "    1. Calculate the Greatest Common Divisor of a and b.\n",
    "    \n",
    "    2. Unless b==0, the result will have the same sign as b (so that when\n",
    "    b is divided by it, the result comes out positive).\n",
    "    The function must return a single integer 'x' which is\n",
    "    the gcd of a and b.\n",
    "    \"\"\"\n",
    "    num1 = int(a)#taking input 1\n",
    "    num2 = int(b)#taking input 2\n",
    "    temp1 = []\n",
    "    partial_num = max(num1, num2)#finding the maximum of both the numbers\n",
    "    partial_num_two = min(num1, num2)#finding the minimum value of both the numbers\n",
    "    temp = 0\n",
    "    remain = 1\n",
    "    while remain != 0:#iterating the loop till the value of reaminder is zero.\n",
    "        if(partial_num == 0 or partial_num_two == 0):\n",
    "            remain = 0\n",
    "            gcd = max(partial_num, partial_num_two)\n",
    "            break\n",
    "        temp = partial_num // partial_num_two # find the value of quotient\n",
    "        temp1.append(temp)\n",
    "        remain = partial_num % partial_num_two#finding the value of remainder\n",
    "        partial_num = partial_num_two\n",
    "        partial_num_two= remain\n",
    "    if(partial_num_two < 0):#retaining the negative value\n",
    "        gcd = -1 * partial_num\n",
    "    else:\n",
    "        gcd = partial_num\n",
    "    return gcd\n",
    "\n",
    "Euclidean_Alg(4, 21)\n"
   ]
  },
  {
   "cell_type": "code",
   "execution_count": null,
   "metadata": {},
   "outputs": [],
   "source": []
  },
  {
   "cell_type": "markdown",
   "metadata": {},
   "source": [
    "### 2.3\n",
    "#### Second tool set\n",
    "\n",
    "Here we will implement the meat of the RSA cryptosystem. The functions below will generate the public and private key pairs which will then be used to create a ciphertext using the public key and then decode the same using the pirvate key.\n",
    "\n"
   ]
  },
  {
   "cell_type": "code",
   "execution_count": 166,
   "metadata": {},
   "outputs": [
    {
     "data": {
      "text/plain": [
       "[5,\n",
       " 11,\n",
       " 13,\n",
       " 17,\n",
       " 19,\n",
       " 23,\n",
       " 25,\n",
       " 29,\n",
       " 31,\n",
       " 35,\n",
       " 37,\n",
       " 41,\n",
       " 43,\n",
       " 47,\n",
       " 49,\n",
       " 53,\n",
       " 55,\n",
       " 59,\n",
       " 61,\n",
       " 65,\n",
       " 67,\n",
       " 71,\n",
       " 73,\n",
       " 77,\n",
       " 79,\n",
       " 83,\n",
       " 85,\n",
       " 89,\n",
       " 91,\n",
       " 95,\n",
       " 97]"
      ]
     },
     "execution_count": 166,
     "metadata": {},
     "output_type": "execute_result"
    }
   ],
   "source": [
    "def Find_Public_Key_e(p, q):\n",
    "    \"\"\"\n",
    "    Implement this function such that\n",
    "    it takes 2 primes p and q.\n",
    "    \n",
    "    Use the gcd function that you have \n",
    "    defined before.\n",
    "    \n",
    "    The function should return 2 elements as follows:\n",
    "    public key: n\n",
    "    public key: e\n",
    "    \n",
    "    \n",
    "    HINT: this function will run a loop to find e such \n",
    "    that e is relatively prime to (p - 1) (q - 1) \n",
    "    and not equal to p or q.\n",
    "    \"\"\"\n",
    "    p = int(p)#converting the input to integer\n",
    "    q = int(q)#converting the input to integer\n",
    "    max_value = max(p, q)#find out the max value\n",
    "    max_digit = len(str(max(p, q)))#trying to find out the value of publickey from 1 -- 10 power (len of the digits).Say if p, q's value is 101, 201\n",
    "    if(max_value < 10**(max_digit+1)):#checking the max_value of p and q is less than 10 ** (max_digit+1)\n",
    "        max_num = 10**(max_digit+1)\n",
    "    else:\n",
    "        max_num = max(p, q)\n",
    "    n = p * q\n",
    "    matching_e = []\n",
    "    for e in range(max_num):\n",
    "        if ((e % 2) == 0):#checking if the number is divisible 2, then we eliminate all the numbers that are divisible 2\n",
    "            pass\n",
    "        elif (((p-1) % 5 ==0) or ((q-1) % 5 == 0)):#checking if either of the number is divisible by 5, then eliminiating all the numbers that divide by 5\n",
    "            if(e % 5 == 0):\n",
    "                pass\n",
    "        elif (e == p):#checking the value of e such that it is not equal to p\n",
    "            pass\n",
    "        elif(e == q):#checking the value of e such that it is not equal to q\n",
    "            pass\n",
    "        else:\n",
    "            gcd1 = Euclidean_Alg(e,(p-1)*(q-1))#using the Euclidean Algorithm to calculate the gcd\n",
    "            if(gcd1 == 1):#gcd should be equal to 1\n",
    "                if(e != 1):\n",
    "                    matching_e.append(e)\n",
    "    \n",
    "    return(matching_e)\n",
    "    \n",
    "Find_Public_Key_e(3, 7)\n",
    "            \n",
    "            "
   ]
  },
  {
   "cell_type": "code",
   "execution_count": 168,
   "metadata": {},
   "outputs": [],
   "source": [
    "def Find_Private_Key_d(e, p, q):\n",
    "    \"\"\"\n",
    "    Implement this method\n",
    "    to find the decryption exponent d such that\n",
    "    d is the modular inverse of e. \n",
    "    \n",
    "    This will use the Extended Eucliean Algorithm\n",
    "    \n",
    "    This function should return the following:\n",
    "    d: the decryption component.\n",
    "    \"\"\"\n",
    "    p = int(p)\n",
    "    q = int(q)\n",
    "    num1 = int((p-1)*(q-1))\n",
    "    num2 = int(e)#taking input 2\n",
    "    temp1 = []\n",
    "    partial_num = max(num1, num2)#finding the maximum of both the numbers\n",
    "    partial_num_two = min(num1, num2)#finding the minimum value of both the numbers\n",
    "    temp = 0\n",
    "    remain = 1\n",
    "    while remain != 0:#iterating the loop till the value of reaminder is zero.\n",
    "        temp = partial_num // partial_num_two # find the value of quotient\n",
    "        temp1.append(temp)\n",
    "        remain = partial_num % partial_num_two#finding the value of remainder\n",
    "        partial_num = partial_num_two\n",
    "        partial_num_two= remain\n",
    "    s = [1, 0]\n",
    "    t = [0, 1]\n",
    "    for quo in range(len(temp1) - 1):#calculating the coefficeints\n",
    "        s.append(s[quo] - temp1[quo]*s[quo+1])\n",
    "        t.append(t[quo] - temp1[quo]*t[quo+1])\n",
    "    #print(\"The inverse coefficient are {} * {} \".format(s[-1], max(num1, num2)))\n",
    "    #print(\"The inverse coefficient are {} * {} \".format(t[-1], min(num1, num2)))\n",
    "    if ((s[-1] * num1 ) + (t[-1] * num2)) == 1:\n",
    "        #print(\"The inverse coefficient are {} * {} \".format(s[-1], num1))\n",
    "        #print(\"The inverse coefficient are {} * {} \".format(t[-1], num2))\n",
    "        inverse_coeff = t[-1]\n",
    "    elif((s[-1] * num2) + (t[-1] * num1)) == 1:\n",
    "        #print(\"The inverse coefficient are {} * {} \".format(s[-1], num2))\n",
    "        #print(\"The inverse coefficient are {} * {} \".format(t[-1], num1))\n",
    "        inverse_coeff = s[-1]\n",
    "    #print(\"The valueis {}\".format(t[-1]))\n",
    "    return(inverse_coeff)\n",
    "    \n",
    "#Find_Private_Key_d(enter values here)\n",
    "    "
   ]
  },
  {
   "cell_type": "markdown",
   "metadata": {},
   "source": [
    "### 3.\n",
    "#### Putting things all together.\n",
    "\n",
    "1. In this part, you will define two functions `Encode` and `Decode` which will use the public and private keys that you calculated using the above 2 functions in the third toolset.\n",
    "2. Using the public key, the `Encode` function will encode a message and generate the corresponding cipher_text.\n",
    "3. Using the private key, the `Decode` function will decode a ciper_text and recover the original message.\n",
    "\n"
   ]
  },
  {
   "cell_type": "code",
   "execution_count": 169,
   "metadata": {},
   "outputs": [
    {
     "data": {
      "text/plain": [
       "[2779,\n",
       " 6093,\n",
       " 94,\n",
       " 7947,\n",
       " 5188,\n",
       " 3526,\n",
       " 6421,\n",
       " 7947,\n",
       " 2865,\n",
       " 2322,\n",
       " 2703,\n",
       " 6093,\n",
       " 3869,\n",
       " 7947,\n",
       " 3888,\n",
       " 7711,\n",
       " 7184,\n",
       " 437,\n",
       " 8083]"
      ]
     },
     "execution_count": 169,
     "metadata": {},
     "output_type": "execute_result"
    }
   ],
   "source": [
    "def Encode(n, e, message):\n",
    "    \"\"\"\n",
    "    Here, the message will be a string of characters.\n",
    "    Use the function Convert_Text from \n",
    "    Second tool set and get a list of numbers.\n",
    "    \n",
    "    Encode each of those numbers using n and e and\n",
    "    return the encoded cipher_text.\n",
    "    \"\"\"\n",
    "    cipher_text = []\n",
    "    numerical_context = Convert_Text(message)#convert the text into numbers using our Convert_Text function\n",
    "    \n",
    "    for number in numerical_context:#iterating through each number from the list of numbers\n",
    "        encode_text = FME(number, e, n)#using fast modular exponentation to calculate the mod value for each message\n",
    "        cipher_text.append(encode_text)\n",
    "    \n",
    "    return cipher_text\n",
    "Encode(8441, 36863, \"Can you break this?\")"
   ]
  },
  {
   "cell_type": "code",
   "execution_count": 170,
   "metadata": {},
   "outputs": [
    {
     "data": {
      "text/plain": [
       "'Anyone else want to go work for the NSA now?'"
      ]
     },
     "execution_count": 170,
     "metadata": {},
     "output_type": "execute_result"
    }
   ],
   "source": [
    "def Decode(n, d, cipher_text):\n",
    "    \"\"\"\n",
    "    Here, the cipher_text will be a list of integers.\n",
    "    First, you will decrypt each of those integers using \n",
    "    n and d.\n",
    "    Later, you will need to use the function that converts the integers to a string \n",
    "    defined in second toolset\n",
    "    to recover the original message as a string. \n",
    "    \n",
    "    \"\"\"\n",
    "    message = \"\"\n",
    "    for num in cipher_text:#Iterating through the encoded messages\n",
    "        msg_dec_mod = FME(num, d, n)#decode each number by using FME\n",
    "        letter_dec = chr(msg_dec_mod)\n",
    "        message = message + letter_dec#Adding all the decoded characters\n",
    "    return message\n",
    "Decode(39203, 28835, [15934, 15253, 9416, 25993, 15253, 23693, 6583, 23693, 33220, 4228, 23693, 6583, 27856, 38158, 15253, 27116, 6583, 27116, 25993, 6583, 31659, 25993, 6583, 27856, 25993, 24267, 2879, 6583, 14378, 25993, 24267, 6583, 27116, 7847, 23693, 6583, 37548, 1540, 15934, 6583, 15253, 25993, 27856, 11844])"
   ]
  },
  {
   "cell_type": "markdown",
   "metadata": {},
   "source": [
    "#### Now the fun begins:"
   ]
  },
  {
   "cell_type": "code",
   "execution_count": 172,
   "metadata": {},
   "outputs": [
    {
     "name": "stdin",
     "output_type": "stream",
     "text": [
      "Enter the function that needs to be implemented Get_Keys Encode or Decode (Enter G or E or D) D\n",
      "Enter the coded message 427, 1105, 4723, 4723, 2371, 1262, 2947, 4250, 762, 1349, 1150\n",
      "Enter the private key 3403\n",
      "Enter the value of n 5251\n"
     ]
    },
    {
     "name": "stdout",
     "output_type": "stream",
     "text": [
      "Hello Earth\n"
     ]
    }
   ],
   "source": [
    "import random\n",
    "def main():\n",
    "        \"\"\" Main function asks the user to encode, Decode or Get Keys\"\"\"\n",
    "        func_to_implement = input(\"Enter the function that needs to be implemented Get_Keys Encode or Decode (Enter G or E or D)\")\n",
    "        if (func_to_implement == \"E\"):#if the user input is E \n",
    "            msg = input(\"Please enter the message\")\n",
    "            pub_key = input(\"Please enter the public key\")\n",
    "            n = input(\"Enter the product of prime numbers\")\n",
    "            encode = Encode(n, pub_key, msg)#Encode the message using Encode function\n",
    "            print(encode)\n",
    "            \n",
    "        elif (func_to_implement == \"D\"):#if the user inputs D then the decode function gets kicked in\n",
    "            input_list = []\n",
    "            msg = input(\"Enter the coded message\")#Splitting the input because it is in the form of a string\n",
    "            numbers = msg.split(\",\")\n",
    "            for number in numbers:\n",
    "                input_list.append(int(number))#converting string input to integer\n",
    "            \n",
    "            #print(input_list)\n",
    "            pri_key = int(input(\"Enter the private key\"))\n",
    "            n = int(input(\"Enter the value of n\"))\n",
    "            decode = Decode(n, pri_key, input_list)\n",
    "            print(decode)\n",
    "        elif (func_to_implement == \"G\"):#if the user inputs G then call the Get key function.\n",
    "            prime1 = input(\"Please enter a prime number\")\n",
    "            prime2 = input(\"Please enter another prime number\")\n",
    "            output = Find_Public_Key_e(prime1, prime2)\n",
    "            if (output):\n",
    "                x = random.randint(1, len(output))#taking a random value from the list of possible public key values\n",
    "                public_key = (output[x])\n",
    "                print(\"The public key is {}\".format(public_key))\n",
    "                private_key = Find_Private_Key_d(public_key, prime1, prime2)\n",
    "                print(\"The private key is {}\".format(private_key))\n",
    "            else:\n",
    "                print(\"Public keys and Private keys cannot be generated for this combination of prime.\")\n",
    "            \n",
    "        else:\n",
    "            print(\"Please enter correct input\")\n",
    "\n",
    "if __name__ == '__main__':\n",
    "    \"\"\"\"\n",
    "    Implement a main function such that:\n",
    "    \n",
    "    1. Asks the user to Get Keys, Encode or Decode.\n",
    "    2. If Getting keys, it will need to ask for p and q. \n",
    "    3. If Encoding, it will need the message and public keys.\n",
    "    4. If Decoding it will need the coded message, and public and private keys.\n",
    "    \n",
    "    You may implement this differently if you want, add more functions, \n",
    "    include a list of useful primes etc... \n",
    "    Just implement in a way that makes sense to you.\n",
    "    And explain why.\n",
    "    \n",
    "    \n",
    "    USING A MAIN FUNCTION IS OPTIONAL if you feel you do not have enough experince. \n",
    "    You will need to organize your functions within the Jupyter Notebook \n",
    "    so we can follow what you are doing.\n",
    "    \n",
    "    \"\"\"\n",
    "    main()"
   ]
  },
  {
   "cell_type": "markdown",
   "metadata": {},
   "source": [
    "### 4. \n",
    "\n",
    "### Demonstrate how your RSA works below, by encoding and decoding a sample message here using your main above and sample inputs. Describe how this works and why you choose to put it together the way you did.\n"
   ]
  },
  {
   "cell_type": "code",
   "execution_count": 11,
   "metadata": {},
   "outputs": [],
   "source": [
    "## \"4\" demo here in mix of text and code blocks"
   ]
  },
  {
   "cell_type": "code",
   "execution_count": null,
   "metadata": {},
   "outputs": [],
   "source": [
    "RSA encryption works by using private and public keys. Both the public and private keys are based on the prime factorization. We choose two prime numbers p and q."
   ]
  },
  {
   "cell_type": "code",
   "execution_count": null,
   "metadata": {},
   "outputs": [],
   "source": [
    "Step 1: We will calculate the public key from the prime numbers p(19) and q(239).We will use the Find_Public_Key_e(p, q). The code above finds the value of public key such that gcd of the public key and product of (p-1) * (q-1)   "
   ]
  },
  {
   "cell_type": "code",
   "execution_count": null,
   "metadata": {},
   "outputs": [],
   "source": [
    "Step 2: [1, 5, 11, 13, 23, 25, 29, 31, 37, 41, 43, 47, 53, 55, 59, 61, 65, 67, 71, 73, 79, 83, 89, 95, 97, 101, 103, 107, 109, 113, 115, 121, 125, 127, 131, 137, 139, 143, 145, 149, 151, 155, 157, 163, 167, 169, 173, 179, 181, 185, 191, 193, 197, 199, 205, 209, 211, 215, 223, 227, 229, 233, 235]\n",
    "THese are the values we obtain that can be used as a public key. We choose a random value to be used as a public key. In this case we chose 197.\n"
   ]
  },
  {
   "cell_type": "code",
   "execution_count": null,
   "metadata": {},
   "outputs": [],
   "source": [
    "Step 3: We calculate the private key from the above mentioned public key using our Find_Private_Key_d() function. We calculate the modular inverse by using extended Euclid algorithm. The coefficients of gcd(a, b) = ax + by. Here a and b will be the inverse for the corresponding variables. We will calculate the gcd of the two numbers a and b and we find the corresponding coefficients in the form of s and t."
   ]
  },
  {
   "cell_type": "code",
   "execution_count": null,
   "metadata": {},
   "outputs": [],
   "source": [
    "Step 5: We obtain the inverse value of the above selected public key as 1457."
   ]
  },
  {
   "cell_type": "code",
   "execution_count": null,
   "metadata": {},
   "outputs": [],
   "source": [
    "Step 6:Now let us encode the message using the public and private keys."
   ]
  },
  {
   "cell_type": "code",
   "execution_count": null,
   "metadata": {},
   "outputs": [],
   "source": [
    "Step 7:We encode the message using our Encode function. We encode our message (message ** public_key) mod (product of two  prime numbers). Let us encode the message \"I love coding\" using our encode function.\n",
    "    The output for the above message is [291, 459, 250, 4262, 708, 529, 459, 2608, 4262, 2968, 1332, 508, 1646]\n"
   ]
  },
  {
   "cell_type": "code",
   "execution_count": null,
   "metadata": {},
   "outputs": [],
   "source": [
    "Step 8: We decode the message using our Decode function. We decode the encoded message using our private key. decoded_value = (message ** private_key) mod n(product of two prime numbers)"
   ]
  },
  {
   "cell_type": "code",
   "execution_count": null,
   "metadata": {},
   "outputs": [],
   "source": [
    "Step 9: Using the decode function, we decode the code using FME and get the output \"I love coding\""
   ]
  },
  {
   "cell_type": "code",
   "execution_count": null,
   "metadata": {},
   "outputs": [],
   "source": [
    "Step 10: Under the main code, the user will be asked for various inputs (E or D or G). Who is going to type full names in Gen X?. So choose from the first letters.\n",
    "    E-- Encoding , G -- Generate Keys, D -- Decode. Once the user inputs the variables, then it checks for the corresponding first letter match and executes that function.\n",
    "    The code goes through a series of if else logics and executes the functions."
   ]
  },
  {
   "cell_type": "markdown",
   "metadata": {},
   "source": [
    "### 5.\n",
    "**Next we will put it all together:**\n",
    "\n",
    "* Find your public and private keys with  Find_Public_Key_e and Find_Private_Key_d\n",
    "\n",
    "* Create digital messages with Encode.\n",
    "\n",
    "* Decode with Decode.\n",
    "\n",
    "* Publish your public and key and message to Piazza.\n",
    "\n",
    "* Exchange private key with other classmates to Piazza.\n",
    "\n",
    "* Test!\n",
    "\n",
    "\n",
    "**Insert Narrative here in this block - One or two pages describing the results of exchanging keys and codes with classmates.**\n",
    "\n",
    "What was challenging? \n",
    "\n",
    "Who helped you with your project? \n",
    "\n",
    "Which resources were most helpful?\n",
    "\n",
    "Best Mistake?\n",
    "\n"
   ]
  },
  {
   "cell_type": "code",
   "execution_count": null,
   "metadata": {},
   "outputs": [],
   "source": [
    "The most challenging part of the code was combining all the functions to make a single code. It was hard to execute the code for all the test cases."
   ]
  },
  {
   "cell_type": "code",
   "execution_count": null,
   "metadata": {},
   "outputs": [],
   "source": [
    "I did the project myself. Melanie Barras, Benjamin Price, and Melissa L replied to my message on Piaza. Exchanged couple of encoded conversations."
   ]
  },
  {
   "cell_type": "code",
   "execution_count": null,
   "metadata": {},
   "outputs": [],
   "source": [
    "Applied Discrete Math text book was really helpful."
   ]
  },
  {
   "cell_type": "code",
   "execution_count": null,
   "metadata": {},
   "outputs": [],
   "source": [
    "Writing print statement at the end of a function instead of return."
   ]
  },
  {
   "cell_type": "markdown",
   "metadata": {},
   "source": [
    "### 6.\n",
    "**RSA part 2:**\n",
    "\n",
    "After you have tested your RSA package yourself, test it with classmates by publishing both the private and public keys on Piazza category for this (this will be a folder separate from Project) for a message. Then post 3 messages with just the public key for people to break - use both very small n ‘s (under 1000) for practice, and some with a challenge.\n",
    "\n",
    "* To break others’ code you just need to factor n (public key).\n",
    "\n",
    "* Write simple “brute force” method for finding for prime factors of n and use this to try to crack codes.\n",
    "\n",
    "* To improve this factoring algorithm, consider THM 2 from page 258.\n",
    "\n",
    "\n",
    "**Implementing a factoring algorithm:**\n",
    "\n",
    "Implement the basic brute force factorization algorithm shown as pseudo code below to find prime factors of n.\n",
    "\n",
    "Brute Force Factoring\n",
    "\n",
    " def factorize(n):\n",
    "      # n is a number, return the smallest factor of n\n",
    "      for i from 2 to n-1:\n",
    "          if i divides n:\n",
    "\t      return i\n",
    "      return FALSE\n"
   ]
  },
  {
   "cell_type": "code",
   "execution_count": 173,
   "metadata": {},
   "outputs": [
    {
     "name": "stdin",
     "output_type": "stream",
     "text": [
      "Enter the public key 5\n",
      "Enter the value of product of two prime numbers 221\n"
     ]
    },
    {
     "name": "stdout",
     "output_type": "stream",
     "text": [
      "The value of prime1 is 13\n",
      "The value of prime2 is 17\n",
      "The value of private key is 77\n"
     ]
    }
   ],
   "source": [
    "## \"6\"  Include your own code for brute force method of finding factors. (just rewrite above and cpmment the code)\n",
    "def find_prime(n):\n",
    "    \"\"\" Function that checks a number is prime or not.\"\"\"\n",
    "    prime = 1\n",
    "    for factor in range(2, int(n**0.5)+1):#Using the TMH theorem in Pg:258\n",
    "        if((n % factor) == 0):#checking the if the number divides the number n\n",
    "            prime = 0 #Value of prime number becomes zero if it divides the factor\n",
    "    if(prime == 1):\n",
    "        #print(\"{} is a prime number\".format(n))\n",
    "        return True #if the number is prime return True\n",
    "    else:\n",
    "        #print(\"{} is not a prime number\".format(n))\n",
    "        return False #if the number is not prime return False\n",
    "\n",
    "def factorize(n):\n",
    "    \"\"\" Function that factorizes a number.\"\"\"\n",
    "    possible_values = []\n",
    "    for num in range(2, int((n ** 0.5)+1)):#Using the TMH theorem to reduce the workload by 2\n",
    "        if((n % num) == 0):#checking if the number is divisible num\n",
    "            if(find_prime(num)):#checking if the number is prime or not\n",
    "                possible_values.append(num)#appending the values to possible values list\n",
    "                possible_values.append(int(n/num))#append the values to the possible values list\n",
    "            else:\n",
    "                pass\n",
    "        else:\n",
    "            pass\n",
    "    return possible_values\n",
    "\n",
    "def main():\n",
    "    \"\"\" The main function asks the user to input public key and the product of two prime numbers.\"\"\"\n",
    "    key = int(input(\"Enter the public key\"))\n",
    "    n = int(input(\"Enter the value of product of two prime numbers\"))\n",
    "    p, q = factorize(n)\n",
    "    print(\"The value of prime1 is\",p)\n",
    "    print(\"The value of prime2 is\",q)\n",
    "    public_keys = Find_Public_Key_e(int(p), int(q))#Using the find public key function to get the public key from give p and q\n",
    "    private_key = 0\n",
    "    if key in public_keys:#Checking if the public key that the user input is present in the list of possible public_key_values\n",
    "        private_key  = (Find_Private_Key_d(key, p, q))\n",
    "    print(\"The value of private key is {}\".format(private_key))\n",
    "\n",
    "        \n",
    "        \n",
    "if __name__ == \"__main__\":\n",
    "    \"\"\" The main function helps you to find the prime factors and private key\"\"\"\n",
    "    main()\n"
   ]
  },
  {
   "cell_type": "markdown",
   "metadata": {},
   "source": [
    "### 7.\n",
    "* Describe your attempts to \"break\" codes for which you do not have the private key. What happens as you try to factor large \"n\"s?\n",
    "\n",
    "* What happens as you try to factor very large numbers?\n",
    "\n",
    "\n",
    "\n",
    "\n"
   ]
  },
  {
   "cell_type": "code",
   "execution_count": null,
   "metadata": {},
   "outputs": [],
   "source": [
    "I am able to break codes that have the n value less than 10 digits. When I try to factor large value of \"n\"s then then server takes some time to compute the values."
   ]
  },
  {
   "cell_type": "code",
   "execution_count": null,
   "metadata": {},
   "outputs": [],
   "source": [
    "When I try to factor very large value of n's the server hangs and I need to restart the server."
   ]
  },
  {
   "cell_type": "markdown",
   "metadata": {},
   "source": [
    "### 8.\n",
    "How many codes did you break? Give some examples.\n"
   ]
  },
  {
   "cell_type": "code",
   "execution_count": null,
   "metadata": {},
   "outputs": [],
   "source": [
    "I am able to break more than 5 codes.\n",
    "\n",
    "1) Public key (e,n) = (5, 221)\n",
    "\n",
    "Encoded Message = [67, 117, 209, 98, 2, 209, 98, 2, 54, 2, 216, 117, 54, 75, 75, 186, 145, 103, 209, 145, 103, 2, 115, 104, 12, 2, 85, 104, 145, 2, 216, 75, 54, 98, 98]\n",
    "\n",
    "Decoded Message --- First we find out the private key = 77. From the private key the decoded message is \"This is a challenging but fun class\"\n",
    "\n",
    "2) Public key (e, n) = (7, 3599)\n",
    "\n",
    "Encoded Message = [1567, 1918, 2591, 1951, 2634, 1297, 2591, 268, 1391, 3130, 2591, 1918, 1391, 268, 1701, 2634, 3322, 2591, 1701, 734, 2349, 2946, 2591, 1749, 2591, 371, 2349, 2619, 2349, 1701, 2591, 3130, 3386, 2591, 588, 1297, 371, 2634, 2946, 2113]\n",
    "\n",
    "Decoded --- First we find out the private key using our factorizing code. The code basically checks for all the numbers ranging from 2 to n if they divide the number n. Then it checks for a prime.\n",
    "So, the private key value is -497.  From the private key the decoded message is \"If you can factor this 4 digit n, kudos.\""
   ]
  },
  {
   "cell_type": "markdown",
   "metadata": {},
   "source": [
    "### 9. \n",
    "\n",
    "Now implement at least **two** improvements to your factoring method. \n",
    "\n",
    "To improve the brute force method - a very naive and slow approach in many ways. We recommend considering improvements in the following order.\n",
    "\n",
    "**Basic Improvement #1 :** Skip over certain numbers (pick at least one of these):\n",
    "\n",
    "The brute force approach above tests even numbers as well as odd. If the number is odd, there is no point searching for an even factor.\n",
    "\n",
    "We can do a better job tackling multiples of 3. If the number is not a multiple of 3, then no factor can be a multiple of 3 either.\n",
    "\n",
    "How about multiples of 5,7,11,13,…?\n",
    "\n",
    "**Basic Improvement #2: The brute force approach iterates all the way to n−1n−1. Can we stop earlier?**\n",
    "\n",
    "To improve the brute force method - a very naive and slow approach in many ways. \n",
    "\n",
    "Hint: Explain with examples how using THM 3 page 258 could improve the brute force method of factoring by implementing (and/or other methods) to improve the brute force method.\n",
    "\n",
    "Then add this technique to your factoring code to improve.\n",
    "\n",
    "\n",
    "Include some narrative at the top of you code or in a text block about your choices.\n",
    "\n",
    "See advanced options in the project description in Moodle.\n",
    "\n",
    " \n",
    "\n"
   ]
  },
  {
   "cell_type": "code",
   "execution_count": null,
   "metadata": {},
   "outputs": [],
   "source": [
    "The following code uses the TMH theorem. It utilizes this to reduce the number of iterations and thereby compute cycles.If you read the following code\n",
    "1) It uses range function(iterating from to squareroot of n +1): This is because range works like [0, 1)\n",
    "2) It uses TMH in both factorize function and finding if the factor is prime or not.\n",
    "3) In the public key function, it eliminates even numbers because the gcd (e, (p-1)* (q-1)) will not be one.\n",
    "4) It also checks if one of the numbers(either p-1 or q-1) are divisible by 5 then it eliminates the possibility of having a public key that is a multiple of 5\n",
    "Note: I have already included these changes in the main code. So if you want to run, please run in the above sections.                                                                                                  \n",
    "                                                                                                   "
   ]
  },
  {
   "cell_type": "code",
   "execution_count": null,
   "metadata": {},
   "outputs": [],
   "source": [
    "## for 9 include code for improvements to factoring algorithm.  Please comment\n",
    "\n",
    "\n",
    "def find_prime(n):\n",
    "    \"\"\" Function that checks a number is prime or not.\"\"\"\n",
    "    prime = 1\n",
    "    for factor in range(2, int(n**0.5)+1):#Using the TMH theorem in Pg:258\n",
    "        if((n % factor) == 0):#checking the if the number divides the number n\n",
    "            prime = 0 #Value of prime number becomes zero if it divides the factor\n",
    "    if(prime == 1):\n",
    "        #print(\"{} is a prime number\".format(n))\n",
    "        return True #if the number is prime return True\n",
    "    else:\n",
    "        #print(\"{} is not a prime number\".format(n))\n",
    "        return False #if the number is not prime return False\n",
    "\n",
    "def factorize(n):\n",
    "    \"\"\" Function that factorizes a number.\"\"\"\n",
    "    possible_values = []\n",
    "    for num in range(2, int((n ** 0.5)+1)):#Using the TMH theorem to reduce the workload by 2\n",
    "        if((n % num) == 0):#checking if the number is divisible b\n",
    "            if(find_prime(num)):#checking if the number is prime or not\n",
    "                possible_values.append(num)#appending the values to possible values list\n",
    "                possible_values.append(n/num)#append the values to the possible values list\n",
    "            else:\n",
    "                pass\n",
    "        else:\n",
    "            pass\n",
    "    return possible_values\n",
    "\n",
    "\"\"\" Improved the code by using above tips. If you want to run the code just run from the above blocks.\"\"\"\n",
    "def Find_Public_Key_e(p, q):\n",
    "    \"\"\"\n",
    "    Implement this function such that\n",
    "    it takes 2 primes p and q.\n",
    "    \n",
    "    Use the gcd function that you have \n",
    "    defined before.\n",
    "    \n",
    "    The function should return 2 elements as follows:\n",
    "    public key: n\n",
    "    public key: e\n",
    "    \n",
    "    \n",
    "    HINT: this function will run a loop to find e such \n",
    "    that e is relatively prime to (p - 1) (q - 1) \n",
    "    and not equal to p or q.\n",
    "    \"\"\"\n",
    "    p = int(p)#converting the input to integer\n",
    "    q = int(q)#converting the input to integer\n",
    "    max_value = max(p, q)#find out the max value\n",
    "    max_digit = len(str(max(p, q)))#trying to find out the value of publickey from 1 -- 10 power (len of the digits).Say if p, q's value is 101, 201\n",
    "    if(max_value < 10**(max_digit+1)):#checking the max_value of p and q is less than 10 ** (max_digit+1)\n",
    "        max_num = 10**(max_digit+1)\n",
    "    else:\n",
    "        max_num = max(p, q)\n",
    "    n = p * q\n",
    "    matching_e = []\n",
    "    for e in range(max_num):\n",
    "        if ((e % 2) == 0):#checking if the number is divisible 2, then we eliminate all the numbers that are divisible 2\n",
    "            pass\n",
    "        elif ((p-1) % 5 ==0) or ((q-1) % 5 == 0)):#checking if either of the number is divisible by 5, then eliminiating all the numbers that divide by 5\n",
    "            if(e % 5 == 0):\n",
    "                pass\n",
    "        elif (e == p):#checking the value of e such that it is not equal to p\n",
    "            pass\n",
    "        elif(e == q):#checking the value of e such that it is not equal to q\n",
    "            pass\n",
    "        else:\n",
    "            gcd1 = Euclidean_Alg(e,(p-1)*(q-1))#using the Euclidean Algorithm to calculate the gcd\n",
    "            if(gcd1 == 1):#gcd should be equal to 1\n",
    "                if(e != 1):\n",
    "                    matching_e.append(e)\n",
    "    \n",
    "    return(matching_e)\n",
    "    \n",
    "Find_Public_Key_e(101, 103)\n"
   ]
  },
  {
   "cell_type": "markdown",
   "metadata": {},
   "source": [
    "### 10.\n",
    "Conclusion: Return to the questions and comments you asked about in the RSA in homework about Number Theory. Answer your questions and/or explain what you have learned.\n",
    "\n",
    "\n"
   ]
  },
  {
   "cell_type": "code",
   "execution_count": null,
   "metadata": {},
   "outputs": [],
   "source": [
    "Question 1: If the prime factorization is so difficult to crack, how the hackers can hack website and read messages?\n",
    "Answer 1: I have learnt that hackers can get sometimes lucky in breaking the private key. As mentiond in one of the methods of Rho's algorithm using random\n",
    "    to generate a random value. Sometimes those randome values might break. But, the probability of success or success ratio is very less.\n",
    "    \n",
    "Question 2: Each software has its own security mechanism. So each software in a system has its own a private key mechanism?\n",
    "Answer 2: Each software should have a unique private key. Because, if a single private key gets compromised then all the software communications are compromised.\n",
    "    Every public key has a unique private key and its converse is true.\n",
    "    \n",
    "Question 3:As the security code increases, the payload on the packet increases. This increases the time period of communication. How do you choose between the trade off?\n",
    "    Answer 3: I learnt that there are two networking procotocls TCP and UDP. TCP provides security and reliability and UDP doesnot. So, depending on the need of the application\n",
    "        we choose one protocol over other.\n",
    "\n"
   ]
  },
  {
   "cell_type": "code",
   "execution_count": null,
   "metadata": {},
   "outputs": [],
   "source": [
    "References:\n",
    "1. Discrete Mathematics and its Applications 7th edition pdf.\n",
    "2.https://www.di-mgt.com.au/euclidean.html\n",
    "3.https://en.wikipedia.org/wiki/B%C3%A9zout%27s_identity"
   ]
  },
  {
   "cell_type": "markdown",
   "metadata": {},
   "source": [
    "## Grading ##\n",
    "    \n",
    "Grading - all code must be commented.\n",
    "\n",
    "**Max grade 60 pts** - Successful implementation of the 1 - 4 , and 10. Clear and comprehensive write up. Do not neglect introduction.\n",
    "\n",
    "**Max grade 80 pts** - add #5, and  must include testing code and exchanging keys at least 3 times. Clear and comprehensive write-up.\n",
    "\n",
    "#You must be exchanging public and private keys (thru #5 ) a few days early (see Moodle for date) before the project is due to  get credit for the final 20 point of the project. (#6/7/8/9)\n",
    "\n",
    "**Max grade 100 pts** - Do all of #1-#10.  **Must be exchanging codes with keys by Sat. noon (weekend before the project is due) to do (#6/7/8/9)** \n",
    "Clear and comprehensive write-up.\n",
    "\n",
    "\n",
    "Do NOT copy code from the internet (or anywhere)\n",
    "Do not ask questions on stackoverflow or similar etc…\n",
    "You are expected to have read the honestly notes in the syllabus.\n",
    "\n",
    "Credit sources you used for additional understanding.\n",
    "Credit classmates that helped you.\n",
    "\n"
   ]
  }
 ],
 "metadata": {
  "kernelspec": {
   "display_name": "Python 3",
   "language": "python",
   "name": "python3"
  },
  "language_info": {
   "codemirror_mode": {
    "name": "ipython",
    "version": 3
   },
   "file_extension": ".py",
   "mimetype": "text/x-python",
   "name": "python",
   "nbconvert_exporter": "python",
   "pygments_lexer": "ipython3",
   "version": "3.6.7"
  }
 },
 "nbformat": 4,
 "nbformat_minor": 2
}
